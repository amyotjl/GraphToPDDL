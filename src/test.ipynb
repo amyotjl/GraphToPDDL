{
 "cells": [
  {
   "cell_type": "code",
   "execution_count": 43,
   "metadata": {},
   "outputs": [],
   "source": [
    "import networkx as nx\n",
    "import matplotlib.pyplot as plt"
   ]
  },
  {
   "cell_type": "code",
   "execution_count": 44,
   "metadata": {},
   "outputs": [],
   "source": [
    "path = \"testcase-5-rev.dot\"\n",
    "nx_graph = nx.drawing.nx_pydot.read_dot(path)"
   ]
  },
  {
   "cell_type": "code",
   "execution_count": 45,
   "metadata": {},
   "outputs": [
    {
     "name": "stdout",
     "output_type": "stream",
     "text": [
      "{'cost': '10', 'type': 'action'}\n",
      "{'type': 'parallel'}\n",
      "[('t1', 'a1')]\n",
      "{0: {'range': '0..4'}}\n"
     ]
    }
   ],
   "source": [
    "print(nx_graph.nodes.get(\"a1\"))\n",
    "print(nx_graph.nodes.get(\"p1\"))\n",
    "print(nx_graph.in_edges(\"a1\"))\n",
    "print(nx_graph.get_edge_data('t1', 'a1'))"
   ]
  },
  {
   "cell_type": "code",
   "execution_count": 46,
   "metadata": {},
   "outputs": [
    {
     "data": {
      "image/png": "[encoded data removed]",
      "text/plain": [
       "<Figure size 432x288 with 1 Axes>"
      ]
     },
     "metadata": {},
     "output_type": "display_data"
    }
   ],
   "source": [
    "nx.draw(nx_graph, with_labels=True)\n",
    "plt.show()"
   ]
  },
  {
   "cell_type": "markdown",
   "metadata": {},
   "source": [
    "# Small Test using the Graphviz API for python"
   ]
  },
  {
   "cell_type": "code",
   "execution_count": 47,
   "metadata": {},
   "outputs": [],
   "source": [
    "from graphviz import Digraph # We only need Digraph\n",
    "\n",
    "class DotGraphCreator:\n",
    "    __FORMAT = {\n",
    "        'context': {\n",
    "            'shape': 'oval',\n",
    "            'fillcolor': 'grey',\n",
    "            'fontcolor': 'black'\n",
    "        },\n",
    "        'action': {\n",
    "            'shape': 'box',\n",
    "            'fillcolor': 'deepskyblue',\n",
    "            'fontcolor': 'black'\n",
    "        },\n",
    "        'decision': {\n",
    "            'shape': 'diamond',\n",
    "            'fillcolor': 'darkorange',\n",
    "            'fontcolor': 'black'\n",
    "        },\n",
    "        'goal': {\n",
    "            'shape': 'circle',\n",
    "            'fillcolor': 'forestgreen',\n",
    "            'fontcolor': 'white',\n",
    "            'width': 0.1,\n",
    "            'fontsize': 8\n",
    "        },\n",
    "        'parallel': {\n",
    "            'shape': 'hexagon',\n",
    "            'fillcolor': 'gold',\n",
    "            'fontcolor': 'black',\n",
    "            'height': 0.3,\n",
    "            'width': 0.3,\n",
    "            'fixedsize': True\n",
    "        },\n",
    "    }\n",
    "\n",
    "\n",
    "    # disease = []\n",
    "    # goal = []\n",
    "\n",
    "    @classmethod\n",
    "    def __create_node_label(cls, id, node_props):\n",
    "        extra_label = f\"<br/>[cost={node_props['cost']}]\" if node_props['type'] == 'action' else \"\"\n",
    "        return f\"<<b>{id}</b>{extra_label}>\"\n",
    "\n",
    "    @classmethod\n",
    "    def __create_edge_label(cls, in_node_props, edge_props):\n",
    "        return f\"{in_node_props['dataItem']}={edge_props['range']}\" if in_node_props['type'] == 'decision' else \"\"\n",
    "\n",
    "    @classmethod\n",
    "    def create_dot_graph(cls, nx_graph):\n",
    "        dot_graph = Digraph(name=nx_graph.graph['name'])\n",
    "\n",
    "        disease = []\n",
    "        goal = []\n",
    "        nodes = nx_graph.nodes.values\n",
    "\n",
    "        for n in nx_graph.nodes:\n",
    "\n",
    "            # Check for a disease node\n",
    "            if not nx_graph.in_edges(n):\n",
    "                disease.append(n)\n",
    "\n",
    "            # Check for a goal node\n",
    "            if not nx_graph.out_edges(n):\n",
    "                goal.append(n)\n",
    "\n",
    "\n",
    "            node_props = nx_graph.nodes[n]\n",
    "            node_format = cls.__FORMAT[node_props['type']]\n",
    "            dot_graph.node(\n",
    "                n,\n",
    "                label=cls.__create_node_label(n, node_props),\n",
    "                style='filled',\n",
    "                shape=node_format['shape'],\n",
    "                fillcolor=node_format['fillcolor'],\n",
    "                fontcolor=node_format['fontcolor']\n",
    "            )\n",
    "\n",
    "            for e in nx_graph.out_edges(n):\n",
    "                edge_props = nx_graph[e[0]][e[1]][0]\n",
    "                dot_graph.edge(\n",
    "                    e[0], e[1],\n",
    "                    label=cls.__create_edge_label(node_props, edge_props)\n",
    "                )\n",
    "        return dot_graph, disease, goal\n",
    "\n",
    "    # @classmethod\n",
    "    # def add_disease(cls,node):\n",
    "    #     cls.disease.append(node)\n",
    "\n",
    "    # @classmethod\n",
    "    # def get_disease(cls):\n",
    "    #     return cls.disease\n",
    "\n",
    "    # @classmethod\n",
    "    # def add_goal(cls,node):\n",
    "    #     cls.goal.append(node)\n",
    "\n",
    "    # @classmethod\n",
    "    # def get_goal(cls):\n",
    "    #     return cls.goal"
   ]
  },
  {
   "cell_type": "code",
   "execution_count": 48,
   "metadata": {},
   "outputs": [],
   "source": [
    "dot_graph, diseases, goals = DotGraphCreator.create_dot_graph(nx_graph)"
   ]
  },
  {
   "cell_type": "code",
   "execution_count": 49,
   "metadata": {},
   "outputs": [
    {
     "data": {
      "text/plain": [
       "'test_5.gv.pdf'"
      ]
     },
     "execution_count": 49,
     "metadata": {},
     "output_type": "execute_result"
    }
   ],
   "source": [
    "# This will show the output of the graph that we have parse from the dot file\n",
    "dot_graph.view()"
   ]
  },
  {
   "cell_type": "markdown",
   "metadata": {},
   "source": [
    "# **Transform our graph data to the PDDL language**"
   ]
  },
  {
   "cell_type": "code",
   "execution_count": 50,
   "metadata": {},
   "outputs": [
    {
     "data": {
      "text/plain": [
       "['d1', 'd2']"
      ]
     },
     "execution_count": 50,
     "metadata": {},
     "output_type": "execute_result"
    }
   ],
   "source": [
    "# Show disease nodes\n",
    "diseases"
   ]
  },
  {
   "cell_type": "code",
   "execution_count": 51,
   "metadata": {},
   "outputs": [
    {
     "data": {
      "text/plain": [
       "['g1', 'g2']"
      ]
     },
     "execution_count": 51,
     "metadata": {},
     "output_type": "execute_result"
    }
   ],
   "source": [
    "# Show goals nodes\n",
    "goals"
   ]
  },
  {
   "cell_type": "code",
   "execution_count": 52,
   "metadata": {},
   "outputs": [
    {
     "data": {
      "text/plain": [
       "'d1 d2 t1 t2 t3 a1 a2 a3 a7 a4 b1 b2 c1 c2 p1 p2 g1 g2'"
      ]
     },
     "execution_count": 52,
     "metadata": {},
     "output_type": "execute_result"
    }
   ],
   "source": [
    "# Show all nodes\n",
    "list(nx_graph.nodes)\n",
    "' '.join(list(nx_graph.nodes))"
   ]
  },
  {
   "cell_type": "code",
   "execution_count": 53,
   "metadata": {},
   "outputs": [
    {
     "data": {
      "text/plain": [
       "'(define (problem problem-test)\\n\\t(:domain domain-test)\\n(:objects d1 d2 - disease\\n\\t\\td1 d2 t1 t2 t3 a1 a2 a3 a7 a4 b1 b2 c1 c2 p1 p2 g1 g2 - node\\n)'"
      ]
     },
     "execution_count": 53,
     "metadata": {},
     "output_type": "execute_result"
    }
   ],
   "source": [
    "# Problem file - Definition\n",
    "problem = open(\"test-problem.pddl\", \"w\")\n",
    "\n",
    "name = \"problem-test\"\n",
    "domain = \"domain-test\"\n",
    "objects = ' '.join(diseases)\n",
    "nodes_list = ' '.join(list(nx_graph.nodes))\n",
    "\n",
    "problem_definition = \"(define (problem {})\\n\\t(:domain {})\\n(:objects {} - disease\\n\\t\\t{} - node\\n)\".format(name, domain, objects, nodes_list)\n",
    "problem_definition\n"
   ]
  },
  {
   "cell_type": "code",
   "execution_count": 54,
   "metadata": {},
   "outputs": [
    {
     "data": {
      "text/plain": [
       "'(:init\\n\\t(initialNode d1 t1)\\n\\t(initialNode d2 a4)\\n\\t(goalNode d1 g1)\\n\\t(goalNode d2 g2)\\n\\t(predecessorNode t1 a1)\\n\\t(predecessorNode t1 a2)\\n\\t(predecessorNode t2 g1)\\n\\t(predecessorNode t2 a3)\\n\\t(predecessorNode t3 a7)\\n\\t(predecessorNode t3 g2)\\n\\t(predecessorNode a1 p1)\\n\\t(predecessorNode a2 p1)\\n\\t(predecessorNode a3 g1)\\n\\t(predecessorNode a7 g2)\\n\\t(predecessorNode a4 t3)\\n\\t(predecessorNode b1 b2)\\n\\t(predecessorNode b2 p2)\\n\\t(predecessorNode c1 c2)\\n\\t(predecessorNode c2 p2)\\n\\t(predecessorNode p1 b1)\\n\\t(predecessorNode p1 c1)\\n\\t(predecessorNode p2 t2)\\n\\t\\n'"
      ]
     },
     "execution_count": 54,
     "metadata": {},
     "output_type": "execute_result"
    }
   ],
   "source": [
    "# Problem file - init\n",
    "initialNode = \"\"\n",
    "goalNode = \"\"\n",
    "for disease in diseases:\n",
    "\n",
    "    for edge in nx_graph.out_edges(disease):\n",
    "        initialNode += \"(initialNode {} {})\\n\\t\".format(disease, edge[1])\n",
    "\n",
    "    goalNode += \"(goalNode {} {})\\n\\t\".format(disease, goals[diseases.index(disease)])\n",
    " \n",
    "\n",
    "predecessorNode = \"\"\n",
    "for node in list(nx_graph.nodes):\n",
    "    for n in nx_graph.out_edges(node):\n",
    "        # Check if the current node is not a disease one\n",
    "        if not any(x in diseases for x in n):\n",
    "            predecessorNode += \"(predecessorNode {} {})\\n\\t\".format(n[0], n[1])\n",
    "\n",
    "\n",
    "\n",
    "initialNode = \"{}\".format(initialNode)#d1,t1\n",
    "goalNode = \"{}\".format(goalNode)#d1,g1;d2,g2\n",
    "predecessorNode = \"{}\".format(predecessorNode) #t1,a1;t1,a2\n",
    "problem_init = \"(:init\\n\\t{}{}{}\\n\".format(initialNode,goalNode,predecessorNode)\n",
    "problem_init"
   ]
  },
  {
   "cell_type": "code",
   "execution_count": 55,
   "metadata": {},
   "outputs": [
    {
     "data": {
      "text/plain": [
       "537"
      ]
     },
     "execution_count": 55,
     "metadata": {},
     "output_type": "execute_result"
    }
   ],
   "source": [
    "problem.write(problem_definition)\n",
    "problem.write(problem_init)\n"
   ]
  },
  {
   "cell_type": "code",
   "execution_count": 56,
   "metadata": {},
   "outputs": [
    {
     "name": "stdout",
     "output_type": "stream",
     "text": [
      "d1=={'type': 'context'}\n",
      "d2=={'type': 'context'}\n",
      "t1=={'type': 'decision', 'dataItem': 'v1'}\n",
      "t2=={'type': 'decision', 'dataItem': 'v2'}\n",
      "t3=={'type': 'decision', 'dataItem': 'v3'}\n",
      "a1=={'cost': '10', 'type': 'action'}\n",
      "a2=={'cost': '10', 'type': 'action'}\n",
      "a3=={'cost': '10', 'type': 'action'}\n",
      "a7=={'cost': '10', 'type': 'action'}\n",
      "a4=={'cost': '10', 'type': 'action'}\n",
      "b1=={'cost': '10', 'type': 'action'}\n",
      "b2=={'cost': '10', 'type': 'action'}\n",
      "c1=={'cost': '10', 'type': 'action'}\n",
      "c2=={'cost': '10', 'type': 'action'}\n",
      "p1=={'type': 'parallel'}\n",
      "p2=={'type': 'parallel'}\n",
      "g1=={'type': 'goal'}\n",
      "g2=={'type': 'goal'}\n"
     ]
    }
   ],
   "source": [
    "for node in nx_graph.nodes:\n",
    "    print(node+ \"==\"+str(nx_graph.nodes[node]))"
   ]
  },
  {
   "cell_type": "code",
   "execution_count": 57,
   "metadata": {},
   "outputs": [
    {
     "name": "stdout",
     "output_type": "stream",
     "text": [
      "['p1', 'p2']\n",
      "(parallelStartNode P1)\n",
      "\t(parallelEndNode P2)\n",
      "\t\n",
      "2 paths found\n",
      "['p1', 'b1', 'b2', 'p2']\n",
      "['p1', 'c1', 'c2', 'p2']\n",
      "(parallelActionNode PB1)\n",
      "\t(parallelActionNode PB2)\n",
      "\t(parallelActionNode PC1)\n",
      "\t(parallelActionNode PC2)\n",
      "\t\n",
      "(untraversedParallelNode PB1)\n",
      "\t(untraversedParallelNode PB2)\n",
      "\t(untraversedParallelNode PC1)\n",
      "\t(untraversedParallelNode PC2)\n",
      "\t\n",
      "(parallelActionNode PB1)\n",
      "\t(parallelActionNode PB2)\n",
      "\t(parallelActionNode PC1)\n",
      "\t(parallelActionNode PC2)\n",
      "\t\n"
     ]
    },
    {
     "data": {
      "text/plain": [
       "29"
      ]
     },
     "execution_count": 57,
     "metadata": {},
     "output_type": "execute_result"
    }
   ],
   "source": [
    "# parallel node sequence example\n",
    "\"\"\"\n",
    "(parallelStartNode P1)\n",
    "(parallelEndNode P2)\n",
    "(parallelActionNode PB1)\n",
    "(parallelActionNode PB2)\n",
    "(parallelActionNode PC1)\n",
    "(parallelActionNode PC2)\n",
    "(untraversedParallelNode PB1)\n",
    "(untraversedParallelNode PB2)\n",
    "(untraversedParallelNode PC1)\n",
    "(untraversedParallelNode PC2)\n",
    "\n",
    "(= (parallelPathCount d1) 0)\n",
    "(= (parallelPathCount d2) 0)\n",
    "(= (numParallelPaths d1) 2)\n",
    "(= (numParallelPaths d2) 0)\n",
    ";(= (numParallelActionNodes d1) 4)\n",
    ";(= (numParallelActionNodes d2) 0)\n",
    "\"\"\"\n",
    "# Parallel preprocess\n",
    "def update_between_parallel_nodes(graph, start_node, end_node):\n",
    "    if graph.nodes[start_node][\"type\"] == \"action\":\n",
    "        graph.nodes[start_node][\"is_in_parallel\"] = True\n",
    "    for _, node in graph.out_edges(start_node):\n",
    "        if node != end_node:\n",
    "            update_between_parallel_nodes(graph, node, end_node)\n",
    "\n",
    "\n",
    "# parallel node check\n",
    "parallel_node = []\n",
    "for node in nx_graph.nodes:\n",
    "        if nx_graph.nodes[node][\"type\"] == \"parallel\":\n",
    "                parallel_node.append(node)\n",
    "print(parallel_node)\n",
    "\n",
    "# for this test, I only have two nodes\n",
    "parallelNode = \"\"\n",
    "parallelTypeNode = \"\"  \n",
    "untraversedParallelNode = \"\"\n",
    "# Loop over this if more than two parallel nodes\n",
    "parallel_sequence = list(nx.all_simple_paths(nx_graph, source=parallel_node[0], target=parallel_node[1]))\n",
    "if not parallel_sequence:\n",
    "        print(\"no path avalaible!\")\n",
    "else:\n",
    "        update_between_parallel_nodes(nx_graph,parallel_node[0],parallel_node[1])\n",
    "        parallelNode += \"(parallelStartNode {})\\n\\t\".format(parallel_node[0].upper())\n",
    "        parallelNode += \"(parallelEndNode {})\\n\\t\".format(parallel_node[1].upper())\n",
    "print(parallelNode)\n",
    "\n",
    "print(\"{} paths found\".format(len(parallel_sequence)))\n",
    "numParallelPaths = len(parallel_sequence)\n",
    "\n",
    "for path in parallel_sequence:\n",
    "        print(path)\n",
    "        for node in path:\n",
    "                if node not in parallel_node: \n",
    "                        #print(node)\n",
    "                        parallelTypeNode += \"(parallel{}Node P{})\\n\\t\".format(nx_graph.nodes[node].get(\"type\").capitalize(), node.upper())\n",
    "                        untraversedParallelNode += \"(untraversedParallelNode P{})\\n\\t\".format(node.upper())\n",
    "                        \n",
    "\n",
    "print(parallelTypeNode)\n",
    "\n",
    "\n",
    "print(untraversedParallelNode)\n",
    "problem.write(parallelNode)\n",
    "problem.write(parallelTypeNode)\n",
    "problem.write(untraversedParallelNode)\n",
    "\n",
    "# If context node\n",
    "print(parallelTypeNode)\n",
    "problem.write(\"(= (parallelPathCount {}) 0)\\n\\t\".format(\"d1\"))\n",
    "problem.write(\"(= (parallelPathCount {}) 0)\\n\\t\".format(\"d2\"))\n",
    "\n",
    "problem.write(\"(= (numParallelPaths {}) {})\\n\\t\".format(\"d1\",numParallelPaths))\n",
    "problem.write(\"(= (numParallelPaths {}) 0)\\n\\t\".format(\"d2\"))\n",
    "\n"
   ]
  },
  {
   "cell_type": "code",
   "execution_count": null,
   "metadata": {},
   "outputs": [],
   "source": []
  },
  {
   "cell_type": "code",
   "execution_count": 58,
   "metadata": {},
   "outputs": [],
   "source": [
    "problem.write(\"\\n)\")\n",
    "problem.close()"
   ]
  }
 ],
 "metadata": {
  "interpreter": {
   "hash": "ffef2fa9cbcc2cd7cb384c713b0ae375e402913407c8199aff0f77ffc4a59ac0"
  },
  "kernelspec": {
   "display_name": "Python 3.9.2 64-bit",
   "name": "python3"
  },
  "language_info": {
   "codemirror_mode": {
    "name": "ipython",
    "version": 3
   },
   "file_extension": ".py",
   "mimetype": "text/x-python",
   "name": "python",
   "nbconvert_exporter": "python",
   "pygments_lexer": "ipython3",
   "version": "3.9.2"
  },
  "orig_nbformat": 4
 },
 "nbformat": 4,
 "nbformat_minor": 2
}
