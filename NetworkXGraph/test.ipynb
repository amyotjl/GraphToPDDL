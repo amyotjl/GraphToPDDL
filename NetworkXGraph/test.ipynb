{
 "cells": [
  {
   "cell_type": "code",
   "execution_count": 3,
   "metadata": {},
   "outputs": [],
   "source": [
    "import networkx as nx\n",
    "import matplotlib.pyplot as plt"
   ]
  },
  {
   "cell_type": "code",
   "execution_count": 17,
   "metadata": {},
   "outputs": [],
   "source": [
    "path = \"testcase-5-rev.dot\"\n",
    "nx_graph = nx.drawing.nx_pydot.read_dot(path)"
   ]
  },
  {
   "cell_type": "code",
   "execution_count": 18,
   "metadata": {},
   "outputs": [
    {
     "name": "stdout",
     "output_type": "stream",
     "text": [
      "{'cost': '10', 'type': 'action'}\n",
      "{'type': 'parallel'}\n",
      "[('t1', 'a1')]\n",
      "{0: {'range': '0..4'}}\n"
     ]
    }
   ],
   "source": [
    "print(nx_graph.nodes.get(\"a1\"))\n",
    "print(nx_graph.nodes.get(\"p1\"))\n",
    "print(nx_graph.in_edges(\"a1\"))\n",
    "print(nx_graph.get_edge_data('t1', 'a1'))"
   ]
  },
  {
   "cell_type": "code",
   "execution_count": 19,
   "metadata": {},
   "outputs": [
    {
     "data": {
      "image/png": "[encoded data removed]",
      "text/plain": [
       "<Figure size 432x288 with 1 Axes>"
      ]
     },
     "metadata": {},
     "output_type": "display_data"
    }
   ],
   "source": [
    "nx.draw(nx_graph, with_labels=True)\n",
    "plt.show()"
   ]
  },
  {
   "cell_type": "code",
   "execution_count": 67,
   "metadata": {},
   "outputs": [],
   "source": [
    "from graphviz import Digraph # We only need Digraph\n",
    "\n",
    "class DotGraphCreator:\n",
    "    __FORMAT = {\n",
    "        'context': {\n",
    "            'shape': 'oval',\n",
    "            'fillcolor': 'grey',\n",
    "            'fontcolor': 'black'\n",
    "        },\n",
    "        'action': {\n",
    "            'shape': 'box',\n",
    "            'fillcolor': 'deepskyblue',\n",
    "            'fontcolor': 'black'\n",
    "        },\n",
    "        'decision': {\n",
    "            'shape': 'diamond',\n",
    "            'fillcolor': 'darkorange',\n",
    "            'fontcolor': 'black'\n",
    "        },\n",
    "        'goal': {\n",
    "            'shape': 'circle',\n",
    "            'fillcolor': 'forestgreen',\n",
    "            'fontcolor': 'white',\n",
    "            'width': 0.1,\n",
    "            'fontsize': 8\n",
    "        },\n",
    "        'parallel': {\n",
    "            'shape': 'hexagon',\n",
    "            'fillcolor': 'gold',\n",
    "            'fontcolor': 'black',\n",
    "            'height': 0.3,\n",
    "            'width': 0.3,\n",
    "            'fixedsize': True\n",
    "        },\n",
    "    }\n",
    "\n",
    "    @classmethod\n",
    "    def __create_node_label(cls, id, node_props):\n",
    "        extra_label = f\"<br/>[cost={node_props['cost']}]\" if node_props['type'] == 'action' else \"\"\n",
    "        return f\"<<b>{id}</b>{extra_label}>\"\n",
    "\n",
    "    @classmethod\n",
    "    def __create_edge_label(cls, in_node_props, edge_props):\n",
    "        return f\"{in_node_props['dataItem']}={edge_props['range']}\" if in_node_props['type'] == 'decision' else \"\"\n",
    "\n",
    "    @classmethod\n",
    "    def create_dot_graph(cls, nx_graph):\n",
    "        dot_graph = Digraph(name=nx_graph.graph['name'])\n",
    "        for n in nx_graph.nodes:\n",
    "            node_props = nx_graph.nodes[n]\n",
    "            node_format = cls.__FORMAT[node_props['type']]\n",
    "            dot_graph.node(\n",
    "                n,\n",
    "                label=cls.__create_node_label(n, node_props),\n",
    "                style='filled',\n",
    "                shape=node_format['shape'],\n",
    "                fillcolor=node_format['fillcolor'],\n",
    "                fontcolor=node_format['fontcolor']\n",
    "            )\n",
    "\n",
    "            for e in nx_graph.out_edges(n):\n",
    "                edge_props = nx_graph[e[0]][e[1]][0]\n",
    "                dot_graph.edge(\n",
    "                    e[0], e[1],\n",
    "                    label=cls.__create_edge_label(node_props, edge_props)\n",
    "                )\n",
    "        return dot_graph"
   ]
  },
  {
   "cell_type": "code",
   "execution_count": 68,
   "metadata": {},
   "outputs": [],
   "source": [
    "dot_graph = DotGraphCreator.create_dot_graph(nx_graph)"
   ]
  },
  {
   "cell_type": "code",
   "execution_count": 69,
   "metadata": {},
   "outputs": [
    {
     "data": {
      "text/plain": [
       "'test_5.gv.pdf'"
      ]
     },
     "execution_count": 69,
     "metadata": {},
     "output_type": "execute_result"
    }
   ],
   "source": [
    "dot_graph.view()"
   ]
  },
  {
   "cell_type": "code",
   "execution_count": null,
   "metadata": {},
   "outputs": [],
   "source": []
  }
 ],
 "metadata": {
  "interpreter": {
   "hash": "9e8f5a2d8542858bd349428a7dcd7554b0274c66f0f6daa43be895dfa2809ddb"
  },
  "kernelspec": {
   "display_name": "Python 3.9.7 64-bit ('pddl': conda)",
   "name": "python3"
  },
  "language_info": {
   "codemirror_mode": {
    "name": "ipython",
    "version": 3
   },
   "file_extension": ".py",
   "mimetype": "text/x-python",
   "name": "python",
   "nbconvert_exporter": "python",
   "pygments_lexer": "ipython3",
   "version": "3.9.7"
  },
  "orig_nbformat": 4
 },
 "nbformat": 4,
 "nbformat_minor": 2
}
