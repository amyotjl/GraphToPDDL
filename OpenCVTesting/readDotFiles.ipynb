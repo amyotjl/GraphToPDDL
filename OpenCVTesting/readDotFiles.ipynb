{
 "cells": [
  {
   "cell_type": "code",
   "execution_count": 220,
   "source": [
    "from graphviz import Source"
   ],
   "outputs": [],
   "metadata": {}
  },
  {
   "cell_type": "code",
   "execution_count": 221,
   "source": [
    "path = 'testcase-1.dot'\r\n",
    "s = Source.from_file(path)\r\n",
    "print(s.source)"
   ],
   "outputs": [
    {
     "output_type": "stream",
     "name": "stdout",
     "text": [
      "digraph test_1 {\n",
      "newrank=true;\n",
      "ranksep = 0.25;\n",
      "node [shape=box, style=filled, fillcolor=deepskyblue, fontname=arial, fontsize=10];\n",
      "edge [fontname=arial, fontsize=9];\n",
      "\n",
      "// Contexts\n",
      "d1 [label=<<b>D1</b>>, shape=oval, style=filled, fillcolor=grey];\n",
      "d2 [label=<<b>D2</b>>, shape=oval, style=filled, fillcolor=grey];\n",
      "\n",
      "// Tests\n",
      "t1 [shape=diamond, label=<<b>T1</b>>, fillcolor=darkorange]\n",
      "t2 [shape=diamond, label=<<b>T2</b>>, fillcolor=darkorange]\n",
      "t3 [shape=diamond, label=<<b>T3</b>>, fillcolor=darkorange]\n",
      "\n",
      "// Actions\n",
      "a1 [label=<<b>A1</b><br/>[cost=10]>];\n",
      "a2 [label=<<b>A2</b><br/>[cost=10]>];\n",
      "a3 [label=<<b>A3</b><br/>[cost=10]>];\n",
      "a7 [label=<<b>A7</b><br/>[cost=10]>];\n",
      "a4 [label=<<b>A4</b><br/>[cost=10]>];\n",
      "\n",
      "// Alternative\n",
      "// d2_alt1 [shape=trapezium, height=0.3, width=0.4, fixedsize=true, fillcolor=grey, label=\"\"];\n",
      "// d2_alt2 [shape=trapezium, height=0.3, width=0.4, fixedsize=true, fillcolor=grey, label=\"\"];\n",
      "\n",
      "// Goals\n",
      "g1 [shape=circle, width=0.1, fillcolor=forestgreen, label=<<b>G1</b>>, fontcolor=white, fontsize=8];\n",
      "g2 [shape=circle, width=0.1, fillcolor=forestgreen, label=<<b>G2</b>>, fontcolor=white, fontsize=8];\n",
      "\n",
      "d1 -> t1;\n",
      "t1 -> a1 [label=<V1 = [0..4]>];\n",
      "t1 -> a2 [label=<V1 = [5..10]>];\n",
      "{a1, a2} -> t2;\n",
      "t2 -> g1 [label=<V2 = [0..4]>];\n",
      "t2 -> a3 [label=<V2 = [5..10]>];\n",
      "a3 -> g1;\n",
      "\n",
      "// Arcs\n",
      "// subgraph cluster_0 {\n",
      "//     a3;\n",
      "//     a7;\n",
      "//     style=dotted;\n",
      "//     label=<<i>Shared</i>>;\n",
      "//     fontname=arial;\n",
      "//     fontsize=9;\n",
      "// }\n",
      "\n",
      "d2 -> a4 -> t3;\n",
      "t3 -> a7 [label=<V3 = [0..4]>];\n",
      "t3 -> g2 [label=<V3 = [5..10]>];\n",
      "a7 -> g2;\n",
      "\n",
      "{g1, g2} -> ros [style=invis];\n",
      "ros [shape=box, width=5, style=filled, fillcolor=white, color=white, align=center, label=<\n",
      "<b>Revision operators:</b><br/>\n",
      "1. if <i>A2</i> and <i>A7</i>, then replace <i>A7</i> with <i>newAction</i> [cost=100]<br/>\n",
      "2. if <i>A2</i> and <i>A7</i>, then replace <i>A7</i> with <i>newAction2</i> [cost=50]\n",
      ">]\n",
      "\n",
      "{rank=same; a1; a2; a4}\n",
      "{rank=same; d1; d2 }\n",
      "{rank=same; a3; a7 }\n",
      "}\n",
      "\n",
      "\n"
     ]
    }
   ],
   "metadata": {}
  },
  {
   "cell_type": "markdown",
   "source": [
    "# Legend\r\n",
    "\r\n",
    "Context node = shape_context = grey oval\r\n",
    "\r\n",
    "Action node = shape_action = deepskyblue box\r\n",
    "\r\n",
    "Decision node = shape_decision = darkorange diamond\r\n",
    "\r\n",
    "Parallel node = shape_parallel = gold hexagon\r\n",
    "\r\n",
    "Alternative node = shape_alternative= orange trapezium\r\n",
    "\r\n",
    "Goal node = shape_goal = forestgreen circle\r\n",
    "\r\n"
   ],
   "metadata": {}
  },
  {
   "cell_type": "code",
   "execution_count": 203,
   "source": [
    "import pydot\r\n",
    "g = pydot.graph_from_dot_file(\"legend.dot\")\r\n",
    "g = g[0]\r\n",
    "\r\n",
    "g.write_png(\"output.png\")\r\n",
    "g.get_name()\r\n"
   ],
   "outputs": [
    {
     "output_type": "execute_result",
     "data": {
      "text/plain": [
       "'legend'"
      ]
     },
     "metadata": {},
     "execution_count": 203
    }
   ],
   "metadata": {}
  },
  {
   "cell_type": "code",
   "execution_count": 250,
   "source": [
    "tmp = pydot.graph_from_dot_file(\"testcase-1.dot\")\r\n",
    "tmp = tmp[0]\r\n",
    "\r\n",
    "print(tmp.to_string())\r\n",
    "#name of the test case\r\n",
    "print(tmp.get_name())\r\n",
    "\r\n",
    "# object of all the edges\r\n",
    "print(tmp.get_edge_list())\r\n",
    "\r\n",
    "# objects of all the nodes\r\n",
    "print(tmp.get_node_list())\r\n",
    "\r\n",
    "# pr\r\n",
    "for edge in tmp.get_edge_list():\r\n",
    "    for node in tmp.get_node_list():\r\n",
    "\r\n",
    "        if edge.get_source() == node.get_name():\r\n",
    "            print(edge.get_source() + \"--­>\" + edge.get_destination())\r\n",
    "            \r\n",
    "        if edge.get_destination() == node.get_name(): # Frozenn dict error for {a1, a2} -> t2;\r\n",
    "            #print(edge.to_string())\r\n",
    "           # print(edge.obj_dict[\"points\"][0])\r\n",
    "            print(edge.get_source() + \"--­>\" + edge.get_destination())\r\n",
    "            \r\n",
    "            \r\n",
    "    \r\n",
    "    #print(edge.get_attributes()) #print label\r\n",
    "\r\n"
   ],
   "outputs": [
    {
     "output_type": "stream",
     "name": "stdout",
     "text": [
      "digraph test_4 {\n",
      "newrank=true;\n",
      "ranksep=\"0.25\";\n",
      "node [fillcolor=deepskyblue, fontname=arial, fontsize=10, shape=box, style=filled];\n",
      "edge [fontname=arial, fontsize=9];\n",
      "d1 [fillcolor=grey, label=<<b>D1</b>>, shape=oval, style=filled];\n",
      "d2 [fillcolor=grey, label=<<b>D2</b>>, shape=oval, style=filled];\n",
      "t1 [fillcolor=darkorange, label=<<b>T1</b>>, shape=diamond];\n",
      "t2 [fillcolor=darkorange, label=<<b>T2</b>>, shape=diamond];\n",
      "t3 [fillcolor=darkorange, label=<<b>T3</b>>, shape=diamond];\n",
      "a0 [label=<<b>A0</b><br/>[cost=10]>];\n",
      "a1 [label=<<b>A1</b><br/>[cost=10]>];\n",
      "a2 [label=<<b>A2</b><br/>[cost=10]>];\n",
      "a3 [label=<<b>A3</b><br/>[cost=10]>];\n",
      "a7 [label=<<b>A7</b><br/>[cost=10]>];\n",
      "a4 [label=<<b>A4</b><br/>[cost=10]>];\n",
      "a5 [label=<<b>A5</b><br/>[cost=75]>];\n",
      "a6 [label=<<b>A6</b><br/>[cost=20]>];\n",
      "g1 [fillcolor=forestgreen, fontcolor=white, fontsize=8, label=<<b>G1</b>>, shape=circle, width=\"0.1\"];\n",
      "g2 [fillcolor=forestgreen, fontcolor=white, fontsize=8, label=<<b>G2</b>>, shape=circle, width=\"0.1\"];\n",
      "d1 -> t1;\n",
      "t1 -> a0;\n",
      "t1 -> a1;\n",
      "t1 -> a2;\n",
      "t1 -> a5;\n",
      "t2 -> g1;\n",
      "t2 -> a3;\n",
      "a3 -> g1;\n",
      "a5 -> a6;\n",
      "a6 -> g1;\n",
      "d2 -> a4;\n",
      "a4 -> t3;\n",
      "t3 -> a7;\n",
      "t3 -> g2;\n",
      "a7 -> g2;\n",
      "subgraph  {\n",
      "g1;\n",
      ",;\n",
      "g2;\n",
      "}\n",
      " -> ros  [style=invis];\n",
      "ros [align=center, color=white, fillcolor=white, label=<\n",
      "<b>Revision operators:</b><br/>\n",
      "1. if <i>A2</i> and <i>A7</i>, then replace <i>A7</i> with <i>newAction</i> [cost=100]<br/>\n",
      "2. if <i>A0</i> and <i>A7</i>, then replace <i>A7</i> with <i>newAction0</i>[cost=100]\n",
      ">, shape=box, style=filled, width=5];\n",
      "subgraph  {\n",
      "rank=same;\n",
      "d1;\n",
      "d2;\n",
      "}\n",
      "\n",
      "subgraph  {\n",
      "rank=same;\n",
      "a0;\n",
      "a1;\n",
      "a2;\n",
      "a5;\n",
      "a4;\n",
      "}\n",
      "\n",
      "subgraph  {\n",
      "rank=same;\n",
      "a3;\n",
      "a6;\n",
      "a7;\n",
      "}\n",
      "\n",
      "}\n",
      "\n",
      "test_4\n",
      "[<pydot.Edge object at 0x0000018209EFE940>, <pydot.Edge object at 0x0000018209EA3DC0>, <pydot.Edge object at 0x0000018209ECFA60>, <pydot.Edge object at 0x0000018209EBB280>, <pydot.Edge object at 0x0000018209E43F70>, <pydot.Edge object at 0x0000018209EC0E50>, <pydot.Edge object at 0x0000018209E37040>, <pydot.Edge object at 0x0000018209E2E490>, <pydot.Edge object at 0x0000018209FDD370>, <pydot.Edge object at 0x0000018209FD2250>, <pydot.Edge object at 0x0000018209FA2F40>, <pydot.Edge object at 0x0000018209FAD0A0>, <pydot.Edge object at 0x0000018209FAAEB0>, <pydot.Edge object at 0x0000018209E72280>, <pydot.Edge object at 0x0000018209E8E3A0>, <pydot.Edge object at 0x0000018209E67B50>]\n",
      "[<pydot.Node object at 0x00000182088E84C0>, <pydot.Node object at 0x0000018209E67B50>, <pydot.Node object at 0x0000018209E93D90>, <pydot.Node object at 0x0000018209E9AE50>, <pydot.Node object at 0x000001820A0B6B50>, <pydot.Node object at 0x000001820A0D2F40>, <pydot.Node object at 0x000001820A0BCE20>, <pydot.Node object at 0x000001820A0C1D00>, <pydot.Node object at 0x000001820A0DF430>, <pydot.Node object at 0x000001820A0B19D0>, <pydot.Node object at 0x000001820A0BB670>, <pydot.Node object at 0x000001820A0A3790>, <pydot.Node object at 0x000001820A1058B0>, <pydot.Node object at 0x000001820A0E89D0>, <pydot.Node object at 0x000001820A0F4AF0>, <pydot.Node object at 0x0000018209E67B20>, <pydot.Node object at 0x0000018209E67AC0>, <pydot.Node object at 0x0000018209E67A60>]\n",
      "d1--­>t1\n",
      "d1--­>t1\n",
      "t1--­>a0\n",
      "t1--­>a0\n",
      "t1--­>a1\n",
      "t1--­>a1\n",
      "t1--­>a2\n",
      "t1--­>a2\n",
      "t1--­>a5\n",
      "t1--­>a5\n",
      "t2--­>g1\n",
      "t2--­>g1\n",
      "t2--­>a3\n",
      "t2--­>a3\n",
      "a3--­>g1\n",
      "a3--­>g1\n",
      "a5--­>a6\n",
      "a5--­>a6\n",
      "a6--­>g1\n",
      "a6--­>g1\n",
      "d2--­>a4\n",
      "d2--­>a4\n",
      "a4--­>t3\n",
      "a4--­>t3\n",
      "t3--­>a7\n",
      "t3--­>a7\n",
      "t3--­>g2\n",
      "t3--­>g2\n",
      "a7--­>g2\n",
      "a7--­>g2\n"
     ]
    },
    {
     "output_type": "error",
     "ename": "TypeError",
     "evalue": "unsupported operand type(s) for +: 'frozendict' and 'str'",
     "traceback": [
      "\u001b[1;31m---------------------------------------------------------------------------\u001b[0m",
      "\u001b[1;31mTypeError\u001b[0m                                 Traceback (most recent call last)",
      "\u001b[1;32m<ipython-input-250-809192473a1a>\u001b[0m in \u001b[0;36m<module>\u001b[1;34m\u001b[0m\n\u001b[0;32m     22\u001b[0m             \u001b[1;31m#print(edge.to_string())\u001b[0m\u001b[1;33m\u001b[0m\u001b[1;33m\u001b[0m\u001b[1;33m\u001b[0m\u001b[0m\n\u001b[0;32m     23\u001b[0m            \u001b[1;31m# print(edge.obj_dict[\"points\"][0])\u001b[0m\u001b[1;33m\u001b[0m\u001b[1;33m\u001b[0m\u001b[1;33m\u001b[0m\u001b[0m\n\u001b[1;32m---> 24\u001b[1;33m             \u001b[0mprint\u001b[0m\u001b[1;33m(\u001b[0m\u001b[0medge\u001b[0m\u001b[1;33m.\u001b[0m\u001b[0mget_source\u001b[0m\u001b[1;33m(\u001b[0m\u001b[1;33m)\u001b[0m \u001b[1;33m+\u001b[0m \u001b[1;34m\"--­>\"\u001b[0m \u001b[1;33m+\u001b[0m \u001b[0medge\u001b[0m\u001b[1;33m.\u001b[0m\u001b[0mget_destination\u001b[0m\u001b[1;33m(\u001b[0m\u001b[1;33m)\u001b[0m\u001b[1;33m)\u001b[0m\u001b[1;33m\u001b[0m\u001b[1;33m\u001b[0m\u001b[0m\n\u001b[0m\u001b[0;32m     25\u001b[0m \u001b[1;33m\u001b[0m\u001b[0m\n\u001b[0;32m     26\u001b[0m \u001b[1;33m\u001b[0m\u001b[0m\n",
      "\u001b[1;31mTypeError\u001b[0m: unsupported operand type(s) for +: 'frozendict' and 'str'"
     ]
    }
   ],
   "metadata": {}
  },
  {
   "cell_type": "markdown",
   "source": [],
   "metadata": {}
  },
  {
   "cell_type": "code",
   "execution_count": null,
   "source": [],
   "outputs": [],
   "metadata": {}
  },
  {
   "cell_type": "code",
   "execution_count": null,
   "source": [
    "# import JSON parser\r\n",
    "import json\r\n"
   ],
   "outputs": [],
   "metadata": {}
  },
  {
   "cell_type": "code",
   "execution_count": 222,
   "source": [
    "# View without saving\r\n",
    "s.unflatten()"
   ],
   "outputs": [
    {
     "output_type": "execute_result",
     "data": {
      "image/svg+xml": "<?xml version=\"1.0\" encoding=\"UTF-8\" standalone=\"no\"?>\r\n<!DOCTYPE svg PUBLIC \"-//W3C//DTD SVG 1.1//EN\"\r\n \"http://www.w3.org/Graphics/SVG/1.1/DTD/svg11.dtd\">\r\n<!-- Generated by graphviz version 2.38.0 (20140413.2041)\r\n -->\r\n<!-- Title: test_1 Pages: 1 -->\r\n<svg width=\"368pt\" height=\"396pt\"\r\n viewBox=\"0.00 0.00 368.00 396.18\" xmlns=\"http://www.w3.org/2000/svg\" xmlns:xlink=\"http://www.w3.org/1999/xlink\">\r\n<g id=\"graph0\" class=\"graph\" transform=\"scale(1 1) rotate(0) translate(4 392.184)\">\r\n<title>test_1</title>\r\n<polygon fill=\"white\" stroke=\"none\" points=\"-4,4 -4,-392.184 364,-392.184 364,4 -4,4\"/>\r\n<!-- a1 -->\r\n<g id=\"node1\" class=\"node\"><title>a1</title>\r\n<polygon fill=\"deepskyblue\" stroke=\"black\" points=\"206,-269.184 148,-269.184 148,-233.184 206,-233.184 206,-269.184\"/>\r\n<text text-anchor=\"start\" x=\"170.5\" y=\"-254.184\" font-family=\"arial\" font-weight=\"bold\" font-size=\"10.00\">A1</text>\r\n<text text-anchor=\"start\" x=\"156\" y=\"-244.184\" font-family=\"arial\" font-size=\"10.00\">[cost=10]</text>\r\n</g>\r\n<!-- t2 -->\r\n<g id=\"node9\" class=\"node\"><title>t2</title>\r\n<polygon fill=\"darkorange\" stroke=\"black\" points=\"227,-214.184 200,-196.184 227,-178.184 254,-196.184 227,-214.184\"/>\r\n<text text-anchor=\"start\" x=\"221\" y=\"-194.684\" font-family=\"arial\" font-weight=\"bold\" font-size=\"10.00\">T2</text>\r\n</g>\r\n<!-- a1&#45;&gt;t2 -->\r\n<g id=\"edge9\" class=\"edge\"><title>a1&#45;&gt;t2</title>\r\n<path fill=\"none\" stroke=\"black\" d=\"M193.096,-233.122C198.513,-227.38 204.571,-220.958 210.052,-215.149\"/>\r\n<polygon fill=\"black\" stroke=\"black\" points=\"212.736,-217.404 217.052,-207.728 207.644,-212.6 212.736,-217.404\"/>\r\n</g>\r\n<!-- a2 -->\r\n<g id=\"node2\" class=\"node\"><title>a2</title>\r\n<polygon fill=\"deepskyblue\" stroke=\"black\" points=\"282,-269.184 224,-269.184 224,-233.184 282,-233.184 282,-269.184\"/>\r\n<text text-anchor=\"start\" x=\"246.5\" y=\"-254.184\" font-family=\"arial\" font-weight=\"bold\" font-size=\"10.00\">A2</text>\r\n<text text-anchor=\"start\" x=\"232\" y=\"-244.184\" font-family=\"arial\" font-size=\"10.00\">[cost=10]</text>\r\n</g>\r\n<!-- a2&#45;&gt;t2 -->\r\n<g id=\"edge10\" class=\"edge\"><title>a2&#45;&gt;t2</title>\r\n<path fill=\"none\" stroke=\"black\" d=\"M244.63,-233.122C242.444,-228.667 240.058,-223.801 237.766,-219.13\"/>\r\n<polygon fill=\"black\" stroke=\"black\" points=\"240.838,-217.446 233.292,-210.009 234.554,-220.529 240.838,-217.446\"/>\r\n</g>\r\n<!-- a4 -->\r\n<g id=\"node3\" class=\"node\"><title>a4</title>\r\n<polygon fill=\"deepskyblue\" stroke=\"black\" points=\"107,-269.184 49,-269.184 49,-233.184 107,-233.184 107,-269.184\"/>\r\n<text text-anchor=\"start\" x=\"71.5\" y=\"-254.184\" font-family=\"arial\" font-weight=\"bold\" font-size=\"10.00\">A4</text>\r\n<text text-anchor=\"start\" x=\"57\" y=\"-244.184\" font-family=\"arial\" font-size=\"10.00\">[cost=10]</text>\r\n</g>\r\n<!-- t3 -->\r\n<g id=\"node11\" class=\"node\"><title>t3</title>\r\n<polygon fill=\"darkorange\" stroke=\"black\" points=\"78,-214.184 51,-196.184 78,-178.184 105,-196.184 78,-214.184\"/>\r\n<text text-anchor=\"start\" x=\"72\" y=\"-194.684\" font-family=\"arial\" font-weight=\"bold\" font-size=\"10.00\">T3</text>\r\n</g>\r\n<!-- a4&#45;&gt;t3 -->\r\n<g id=\"edge13\" class=\"edge\"><title>a4&#45;&gt;t3</title>\r\n<path fill=\"none\" stroke=\"black\" d=\"M78,-233.122C78,-230.286 78,-227.283 78,-224.269\"/>\r\n<polygon fill=\"black\" stroke=\"black\" points=\"81.5001,-224.213 78,-214.213 74.5001,-224.213 81.5001,-224.213\"/>\r\n</g>\r\n<!-- d1 -->\r\n<g id=\"node4\" class=\"node\"><title>d1</title>\r\n<ellipse fill=\"grey\" stroke=\"black\" cx=\"211\" cy=\"-370.184\" rx=\"27\" ry=\"18\"/>\r\n<text text-anchor=\"start\" x=\"204.5\" y=\"-368.684\" font-family=\"arial\" font-weight=\"bold\" font-size=\"10.00\">D1</text>\r\n</g>\r\n<!-- t1 -->\r\n<g id=\"node8\" class=\"node\"><title>t1</title>\r\n<polygon fill=\"darkorange\" stroke=\"black\" points=\"211,-333.184 184,-315.184 211,-297.184 238,-315.184 211,-333.184\"/>\r\n<text text-anchor=\"start\" x=\"205\" y=\"-313.684\" font-family=\"arial\" font-weight=\"bold\" font-size=\"10.00\">T1</text>\r\n</g>\r\n<!-- d1&#45;&gt;t1 -->\r\n<g id=\"edge1\" class=\"edge\"><title>d1&#45;&gt;t1</title>\r\n<path fill=\"none\" stroke=\"black\" d=\"M211,-352.122C211,-349.286 211,-346.283 211,-343.269\"/>\r\n<polygon fill=\"black\" stroke=\"black\" points=\"214.5,-343.213 211,-333.213 207.5,-343.213 214.5,-343.213\"/>\r\n</g>\r\n<!-- d2 -->\r\n<g id=\"node5\" class=\"node\"><title>d2</title>\r\n<ellipse fill=\"grey\" stroke=\"black\" cx=\"78\" cy=\"-370.184\" rx=\"27\" ry=\"18\"/>\r\n<text text-anchor=\"start\" x=\"71.5\" y=\"-368.684\" font-family=\"arial\" font-weight=\"bold\" font-size=\"10.00\">D2</text>\r\n</g>\r\n<!-- d2&#45;&gt;a4 -->\r\n<g id=\"edge2\" class=\"edge\"><title>d2&#45;&gt;a4</title>\r\n<path fill=\"none\" stroke=\"black\" d=\"M78,-352.171C78,-333.108 78,-301.936 78,-279.461\"/>\r\n<polygon fill=\"black\" stroke=\"black\" points=\"81.5001,-279.217 78,-269.217 74.5001,-279.217 81.5001,-279.217\"/>\r\n</g>\r\n<!-- a3 -->\r\n<g id=\"node6\" class=\"node\"><title>a3</title>\r\n<polygon fill=\"deepskyblue\" stroke=\"black\" points=\"247,-150.184 189,-150.184 189,-114.184 247,-114.184 247,-150.184\"/>\r\n<text text-anchor=\"start\" x=\"211.5\" y=\"-135.184\" font-family=\"arial\" font-weight=\"bold\" font-size=\"10.00\">A3</text>\r\n<text text-anchor=\"start\" x=\"197\" y=\"-125.184\" font-family=\"arial\" font-size=\"10.00\">[cost=10]</text>\r\n</g>\r\n<!-- g1 -->\r\n<g id=\"node10\" class=\"node\"><title>g1</title>\r\n<ellipse fill=\"forestgreen\" stroke=\"black\" cx=\"218\" cy=\"-76.0919\" rx=\"19.1842\" ry=\"19.1842\"/>\r\n<text text-anchor=\"start\" x=\"212.5\" y=\"-75.1919\" font-family=\"arial\" font-weight=\"bold\" font-size=\"8.00\" fill=\"white\">G1</text>\r\n</g>\r\n<!-- a3&#45;&gt;g1 -->\r\n<g id=\"edge11\" class=\"edge\"><title>a3&#45;&gt;g1</title>\r\n<path fill=\"none\" stroke=\"black\" d=\"M218,-114.069C218,-111.376 218,-108.531 218,-105.662\"/>\r\n<polygon fill=\"black\" stroke=\"black\" points=\"221.5,-105.405 218,-95.4049 214.5,-105.405 221.5,-105.405\"/>\r\n</g>\r\n<!-- a7 -->\r\n<g id=\"node7\" class=\"node\"><title>a7</title>\r\n<polygon fill=\"deepskyblue\" stroke=\"black\" points=\"89,-150.184 31,-150.184 31,-114.184 89,-114.184 89,-150.184\"/>\r\n<text text-anchor=\"start\" x=\"53.5\" y=\"-135.184\" font-family=\"arial\" font-weight=\"bold\" font-size=\"10.00\">A7</text>\r\n<text text-anchor=\"start\" x=\"39\" y=\"-125.184\" font-family=\"arial\" font-size=\"10.00\">[cost=10]</text>\r\n</g>\r\n<!-- g2 -->\r\n<g id=\"node12\" class=\"node\"><title>g2</title>\r\n<ellipse fill=\"forestgreen\" stroke=\"black\" cx=\"125\" cy=\"-76.0919\" rx=\"19.1842\" ry=\"19.1842\"/>\r\n<text text-anchor=\"start\" x=\"119.5\" y=\"-75.1919\" font-family=\"arial\" font-weight=\"bold\" font-size=\"8.00\" fill=\"white\">G2</text>\r\n</g>\r\n<!-- a7&#45;&gt;g2 -->\r\n<g id=\"edge12\" class=\"edge\"><title>a7&#45;&gt;g2</title>\r\n<path fill=\"none\" stroke=\"black\" d=\"M80.5664,-114.069C87.6238,-108.196 95.5531,-101.597 102.739,-95.6174\"/>\r\n<polygon fill=\"black\" stroke=\"black\" points=\"105.288,-98.0495 110.735,-88.9626 100.81,-92.6689 105.288,-98.0495\"/>\r\n</g>\r\n<!-- t1&#45;&gt;a1 -->\r\n<g id=\"edge3\" class=\"edge\"><title>t1&#45;&gt;a1</title>\r\n<path fill=\"none\" stroke=\"black\" d=\"M199.94,-304.464C195.36,-299.922 190.348,-294.194 187,-288.184 185.39,-285.294 184.025,-282.126 182.871,-278.907\"/>\r\n<polygon fill=\"black\" stroke=\"black\" points=\"186.222,-277.898 180.007,-269.317 179.515,-279.901 186.222,-277.898\"/>\r\n<text text-anchor=\"start\" x=\"187\" y=\"-280.984\" font-family=\"arial\" font-size=\"9.00\">V1 = [0..4]</text>\r\n</g>\r\n<!-- t1&#45;&gt;a2 -->\r\n<g id=\"edge4\" class=\"edge\"><title>t1&#45;&gt;a2</title>\r\n<path fill=\"none\" stroke=\"black\" d=\"M219.098,-302.23C223.769,-295.335 229.829,-286.388 235.532,-277.969\"/>\r\n<polygon fill=\"black\" stroke=\"black\" points=\"238.562,-279.738 241.273,-269.495 232.766,-275.812 238.562,-279.738\"/>\r\n<text text-anchor=\"start\" x=\"234\" y=\"-280.984\" font-family=\"arial\" font-size=\"9.00\">V1 = [5..10]</text>\r\n</g>\r\n<!-- t2&#45;&gt;a3 -->\r\n<g id=\"edge5\" class=\"edge\"><title>t2&#45;&gt;a3</title>\r\n<path fill=\"none\" stroke=\"black\" d=\"M224.552,-179.516C224.03,-176.111 223.489,-172.528 223,-169.184 222.58,-166.316 222.15,-163.318 221.727,-160.329\"/>\r\n<polygon fill=\"black\" stroke=\"black\" points=\"225.19,-159.823 220.339,-150.404 218.258,-160.792 225.19,-159.823\"/>\r\n<text text-anchor=\"start\" x=\"223\" y=\"-161.984\" font-family=\"arial\" font-size=\"9.00\">V2 = [5..10]</text>\r\n</g>\r\n<!-- t2&#45;&gt;g1 -->\r\n<g id=\"edge6\" class=\"edge\"><title>t2&#45;&gt;g1</title>\r\n<path fill=\"none\" stroke=\"black\" d=\"M243.994,-189.376C253.158,-185.273 263.658,-178.773 269,-169.184 271.163,-165.301 269.623,-163.584 269,-159.184 266.082,-138.571 266.692,-132.046 256,-114.184 251.898,-107.331 246.222,-100.869 240.505,-95.3183\"/>\r\n<polygon fill=\"black\" stroke=\"black\" points=\"242.59,-92.484 232.83,-88.3618 237.889,-97.6707 242.59,-92.484\"/>\r\n<text text-anchor=\"start\" x=\"267\" y=\"-129.984\" font-family=\"arial\" font-size=\"9.00\">V2 = [0..4]</text>\r\n</g>\r\n<!-- ros -->\r\n<g id=\"node13\" class=\"node\"><title>ros</title>\r\n<polygon fill=\"white\" stroke=\"white\" points=\"360,-38 0,-38 0,-0 360,-0 360,-38\"/>\r\n<text text-anchor=\"start\" x=\"134\" y=\"-27\" font-family=\"arial\" font-weight=\"bold\" font-size=\"10.00\">Revision operators:</text>\r\n<text text-anchor=\"start\" x=\"49\" y=\"-17\" font-family=\"arial\" font-size=\"10.00\">1. if </text>\r\n<text text-anchor=\"start\" x=\"68\" y=\"-17\" font-family=\"arial\" font-style=\"italic\" font-size=\"10.00\">A2</text>\r\n<text text-anchor=\"start\" x=\"81\" y=\"-17\" font-family=\"arial\" font-size=\"10.00\"> and </text>\r\n<text text-anchor=\"start\" x=\"103\" y=\"-17\" font-family=\"arial\" font-style=\"italic\" font-size=\"10.00\">A7</text>\r\n<text text-anchor=\"start\" x=\"116\" y=\"-17\" font-family=\"arial\" font-size=\"10.00\">, then replace </text>\r\n<text text-anchor=\"start\" x=\"179\" y=\"-17\" font-family=\"arial\" font-style=\"italic\" font-size=\"10.00\">A7</text>\r\n<text text-anchor=\"start\" x=\"192\" y=\"-17\" font-family=\"arial\" font-size=\"10.00\"> with </text>\r\n<text text-anchor=\"start\" x=\"216\" y=\"-17\" font-family=\"arial\" font-style=\"italic\" font-size=\"10.00\">newAction</text>\r\n<text text-anchor=\"start\" x=\"261\" y=\"-17\" font-family=\"arial\" font-size=\"10.00\"> [cost=100]</text>\r\n<text text-anchor=\"start\" x=\"49\" y=\"-7\" font-family=\"arial\" font-size=\"10.00\">2. if </text>\r\n<text text-anchor=\"start\" x=\"68\" y=\"-7\" font-family=\"arial\" font-style=\"italic\" font-size=\"10.00\">A2</text>\r\n<text text-anchor=\"start\" x=\"81\" y=\"-7\" font-family=\"arial\" font-size=\"10.00\"> and </text>\r\n<text text-anchor=\"start\" x=\"103\" y=\"-7\" font-family=\"arial\" font-style=\"italic\" font-size=\"10.00\">A7</text>\r\n<text text-anchor=\"start\" x=\"116\" y=\"-7\" font-family=\"arial\" font-size=\"10.00\">, then replace </text>\r\n<text text-anchor=\"start\" x=\"179\" y=\"-7\" font-family=\"arial\" font-style=\"italic\" font-size=\"10.00\">A7</text>\r\n<text text-anchor=\"start\" x=\"192\" y=\"-7\" font-family=\"arial\" font-size=\"10.00\"> with </text>\r\n<text text-anchor=\"start\" x=\"216\" y=\"-7\" font-family=\"arial\" font-style=\"italic\" font-size=\"10.00\">newAction2</text>\r\n<text text-anchor=\"start\" x=\"266\" y=\"-7\" font-family=\"arial\" font-size=\"10.00\"> [cost=50]</text>\r\n</g>\r\n<!-- g1&#45;&gt;ros -->\r\n<!-- t3&#45;&gt;a7 -->\r\n<g id=\"edge7\" class=\"edge\"><title>t3&#45;&gt;a7</title>\r\n<path fill=\"none\" stroke=\"black\" d=\"M73.8252,-180.804C72.0668,-174.747 69.9595,-167.489 67.9264,-160.486\"/>\r\n<polygon fill=\"black\" stroke=\"black\" points=\"71.1993,-159.206 65.0499,-150.578 64.4769,-161.157 71.1993,-159.206\"/>\r\n<text text-anchor=\"start\" x=\"71\" y=\"-161.984\" font-family=\"arial\" font-size=\"9.00\">V3 = [0..4]</text>\r\n</g>\r\n<!-- t3&#45;&gt;g2 -->\r\n<g id=\"edge8\" class=\"edge\"><title>t3&#45;&gt;g2</title>\r\n<path fill=\"none\" stroke=\"black\" d=\"M92.3166,-187.371C99.0705,-182.934 106.597,-176.748 111,-169.184 122.206,-149.934 125.406,-124.74 125.972,-105.57\"/>\r\n<polygon fill=\"black\" stroke=\"black\" points=\"129.473,-105.368 126.045,-95.3436 122.473,-105.318 129.473,-105.368\"/>\r\n<text text-anchor=\"start\" x=\"126\" y=\"-129.984\" font-family=\"arial\" font-size=\"9.00\">V3 = [5..10]</text>\r\n</g>\r\n<!-- g2&#45;&gt;ros -->\r\n</g>\r\n</svg>\r\n",
      "text/plain": [
       "<graphviz.files.Source at 0x18209e5f7c0>"
      ]
     },
     "metadata": {},
     "execution_count": 222
    }
   ],
   "metadata": {}
  },
  {
   "cell_type": "code",
   "execution_count": null,
   "source": [
    "# View the dot file in a graphviz format\r\n",
    "# s.view()"
   ],
   "outputs": [],
   "metadata": {}
  },
  {
   "cell_type": "code",
   "execution_count": null,
   "source": [
    "# Create a graphviz file\r\n",
    "# s.render('test', format='jpg',view=True)"
   ],
   "outputs": [],
   "metadata": {}
  },
  {
   "cell_type": "code",
   "execution_count": null,
   "source": [],
   "outputs": [],
   "metadata": {}
  }
 ],
 "metadata": {
  "orig_nbformat": 4,
  "language_info": {
   "name": "python",
   "version": "3.9.2",
   "mimetype": "text/x-python",
   "codemirror_mode": {
    "name": "ipython",
    "version": 3
   },
   "pygments_lexer": "ipython3",
   "nbconvert_exporter": "python",
   "file_extension": ".py"
  },
  "kernelspec": {
   "name": "python3",
   "display_name": "Python 3.9.2 64-bit"
  },
  "interpreter": {
   "hash": "ffef2fa9cbcc2cd7cb384c713b0ae375e402913407c8199aff0f77ffc4a59ac0"
  }
 },
 "nbformat": 4,
 "nbformat_minor": 2
}